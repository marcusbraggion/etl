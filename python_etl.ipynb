{
 "cells": [
  {
   "cell_type": "code",
   "execution_count": 113,
   "id": "e68fccfc",
   "metadata": {
    "ExecuteTime": {
     "end_time": "2022-03-15T01:25:26.350082Z",
     "start_time": "2022-03-15T01:25:26.283080Z"
    }
   },
   "outputs": [],
   "source": [
    "import psycopg2\n",
    "import psycopg2.extras\n",
    "import pandas as  pd\n",
    "from db_credentials import postgres_config\n",
    "\n",
    "cur = None\n",
    "conn = None\n",
    "\n",
    "try:\n",
    "    conn = psycopg2.connect(host=postgres_config['hostname'],\n",
    "                dbname=postgres_config['database'],\n",
    "                user=postgres_config['username'],\n",
    "                password=postgres_config['pwd'],\n",
    "                port=postgres_config['port_id']\n",
    "            )\n",
    "    def extract():\n",
    "        cur = conn.cursor(cursor_factory=psycopg2.extras.DictCursor)\n",
    "\n",
    "        extract_data = '''select store, dayofweek, \"Date\", customers from public.store'''\n",
    "\n",
    "        cur.execute(extract_data)\n",
    "    \n",
    "        data = cur.fetchall()\n",
    "        data = pd.DataFrame(data, columns=['store', 'day_of_week', 'date', 'customers'])\n",
    "        \n",
    "        return data\n",
    "    \n",
    "    def transform():\n",
    "        \n",
    "        # change type\n",
    "        data['date'] = pd.to_datetime(data['date'])\n",
    "        data['store'] = data['store'].astype('int64')\n",
    "        data['day_of_week'] = data['day_of_week'].astype('int64')\n",
    "        data['customers'] = data['customers'].astype('int64')\n",
    "\n",
    "        # fill out na\n",
    "        data.dropna(axis=0, inplace=True)\n",
    "        \n",
    "        return data\n",
    "    \n",
    "    def data_filtering():\n",
    "        \n",
    "        data_filtered = data[['date', 'store', 'day_of_week', 'customers']].groupby(['store', 'date']).sum().reset_index()\n",
    "        return data_filtered\n",
    "    \n",
    "    def load():\n",
    "        \n",
    "        create_script = '''\n",
    "        CREATE TABLE IF NOT EXISTS public.customers'''\n",
    "        \n",
    "        cur.execute(create_script)\n",
    "        cur.commit()\n",
    "        \n",
    "        # insert DataFrame into database\n",
    "        data_filtered.to_sql('customers', conn)\n",
    "        print('rows inserted: {data_filtered.shape[0]}')\n",
    "        print('etl process done')      \n",
    "            \n",
    "        \n",
    "except Exception as error:\n",
    "    print(error)\n",
    "finally:\n",
    "    if conn is not None:\n",
    "        conn.close()\n",
    "    if cur is not None:\n",
    "        cur.close()"
   ]
  },
  {
   "cell_type": "code",
   "execution_count": 114,
   "id": "246ef08f",
   "metadata": {
    "ExecuteTime": {
     "end_time": "2022-03-15T01:25:27.107908Z",
     "start_time": "2022-03-15T01:25:27.084915Z"
    }
   },
   "outputs": [
    {
     "ename": "AttributeError",
     "evalue": "'NoneType' object has no attribute 'execute'",
     "output_type": "error",
     "traceback": [
      "\u001b[1;31m---------------------------------------------------------------------------\u001b[0m",
      "\u001b[1;31mAttributeError\u001b[0m                            Traceback (most recent call last)",
      "\u001b[1;32m~\\AppData\\Local\\Temp/ipykernel_6936/2483358281.py\u001b[0m in \u001b[0;36m<module>\u001b[1;34m\u001b[0m\n\u001b[1;32m----> 1\u001b[1;33m \u001b[0m_\u001b[0m \u001b[1;33m=\u001b[0m \u001b[0mload\u001b[0m\u001b[1;33m(\u001b[0m\u001b[1;33m)\u001b[0m\u001b[1;33m\u001b[0m\u001b[1;33m\u001b[0m\u001b[0m\n\u001b[0m",
      "\u001b[1;32m~\\AppData\\Local\\Temp/ipykernel_6936/2705774807.py\u001b[0m in \u001b[0;36mload\u001b[1;34m()\u001b[0m\n\u001b[0;32m     49\u001b[0m         CREATE TABLE IF NOT EXISTS public.customers'''\n\u001b[0;32m     50\u001b[0m \u001b[1;33m\u001b[0m\u001b[0m\n\u001b[1;32m---> 51\u001b[1;33m         \u001b[0mcur\u001b[0m\u001b[1;33m.\u001b[0m\u001b[0mexecute\u001b[0m\u001b[1;33m(\u001b[0m\u001b[0mcreate_script\u001b[0m\u001b[1;33m)\u001b[0m\u001b[1;33m\u001b[0m\u001b[1;33m\u001b[0m\u001b[0m\n\u001b[0m\u001b[0;32m     52\u001b[0m         \u001b[0mcur\u001b[0m\u001b[1;33m.\u001b[0m\u001b[0mcommit\u001b[0m\u001b[1;33m(\u001b[0m\u001b[1;33m)\u001b[0m\u001b[1;33m\u001b[0m\u001b[1;33m\u001b[0m\u001b[0m\n\u001b[0;32m     53\u001b[0m \u001b[1;33m\u001b[0m\u001b[0m\n",
      "\u001b[1;31mAttributeError\u001b[0m: 'NoneType' object has no attribute 'execute'"
     ]
    }
   ],
   "source": [
    "_ = load()"
   ]
  },
  {
   "cell_type": "code",
   "execution_count": 112,
   "id": "a098472d",
   "metadata": {
    "ExecuteTime": {
     "end_time": "2022-03-15T01:25:08.803947Z",
     "start_time": "2022-03-15T01:25:08.777576Z"
    }
   },
   "outputs": [
    {
     "data": {
      "text/plain": [
       "''"
      ]
     },
     "execution_count": 112,
     "metadata": {},
     "output_type": "execute_result"
    }
   ],
   "source": [
    "_"
   ]
  },
  {
   "cell_type": "code",
   "execution_count": null,
   "id": "a9b22c1c",
   "metadata": {},
   "outputs": [],
   "source": []
  }
 ],
 "metadata": {
  "kernelspec": {
   "display_name": "Python 3 (ipykernel)",
   "language": "python",
   "name": "python3"
  },
  "language_info": {
   "codemirror_mode": {
    "name": "ipython",
    "version": 3
   },
   "file_extension": ".py",
   "mimetype": "text/x-python",
   "name": "python",
   "nbconvert_exporter": "python",
   "pygments_lexer": "ipython3",
   "version": "3.9.5"
  }
 },
 "nbformat": 4,
 "nbformat_minor": 5
}
